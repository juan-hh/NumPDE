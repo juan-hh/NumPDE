{
  "cells": [
    {
      "cell_type": "markdown",
      "metadata": {
        "id": "UB11s92kwxkE"
      },
      "source": [
        "# SIMPLEFEM - A simple implementation of a finite elements method\n"
      ]
    },
    {
      "cell_type": "markdown",
      "metadata": {
        "id": "H4eGrqZxsYPt"
      },
      "source": [
        "This is a simple implementation of a finite element method based on the MATLAB code of [Prof. Jörn Behrens](https://www.math.uni-hamburg.de/forschung/bereiche/am/numgeo/personen/behrens-joern.html) (University of Hamburg) in his lecture *Numerical Approximation of Partial Differential Equations - Galerkin Methods*."
      ]
    },
    {
      "cell_type": "markdown",
      "metadata": {
        "id": "E-y1E4cAJZd5"
      },
      "source": [
        "Set up mesh with 9 nodes and and 8 elements in the variables `coord`, `elem`, and `emax`."
      ]
    },
    {
      "cell_type": "code",
      "execution_count": null,
      "metadata": {
        "id": "3As3hCUmjRMq"
      },
      "outputs": [],
      "source": [
        "import numpy as np\n",
        "import matplotlib.pyplot as plt\n",
        "from scipy.sparse.linalg import spsolve\n",
        "import scipy.sparse as sp\n",
        "import time\n",
        "\n",
        "def initial():\n",
        "  \"\"\"\n",
        "  Sets up the initial triangulation on the\n",
        "  unit square with 8 meshes and 9 nodes.\n",
        "\n",
        "  Input:\n",
        "    None\n",
        "\n",
        "  Output:\n",
        "    coord   coordinates of nodes in mesh\n",
        "    elem    element nodes indices\n",
        "    emax    start and end indicies of triangulation levels\n",
        "  \"\"\"\n",
        "  global coord, elem, emax\n",
        "  coord = [\n",
        "        [0., 0.],  [0.5, 0.],  [1., 0.],\n",
        "        [0., 0.5], [0.5, 0.5], [1., 0.5],\n",
        "        [0., 1.],  [0.5, 1.],  [1., 1.]\n",
        "            ]\n",
        "\n",
        "  elem = [\n",
        "        [0, 4, 3], [4, 0, 1], [1, 5, 4], [5, 1, 2],\n",
        "        [3, 7, 6], [7, 3, 4], [4, 8, 7], [8, 4, 5]\n",
        "          ]\n",
        "\n",
        "  emax = [\n",
        "      [0, 7]\n",
        "      ]\n",
        "\n",
        "  print(\"Initial mesh with 8 elements and 9 nodes initialized.\")\n",
        "\n",
        "initial()"
      ]
    },
    {
      "cell_type": "markdown",
      "metadata": {
        "id": "n1Q4g9TlJY3T"
      },
      "source": [
        "Plot mesh if you want to inspect"
      ]
    },
    {
      "cell_type": "code",
      "execution_count": null,
      "metadata": {
        "id": "4fhzOKVmzm47"
      },
      "outputs": [],
      "source": [
        "def plot_mesh(lvl=-1, show_elem_ids=True, show_node_ids=False):\n",
        "  \"\"\"\n",
        "  Plots the mesh of the triangulation.\n",
        "\n",
        "  Input:\n",
        "    lvl       which level to plot, default is the most dense level\n",
        "    elem_ids  whether plot the ids of the elements in their center\n",
        "    node_ids  whether plot the ids of the nodes next to them\n",
        "\n",
        "  Output:\n",
        "    None\n",
        "  \"\"\"\n",
        "  _, ax = plt.subplots()\n",
        "\n",
        "  # Get level bounds\n",
        "  lmn, lmx = emax[lvl]\n",
        "\n",
        "  # Go through every element\n",
        "  for i, e in enumerate(elem[lmn:lmx+1], start=lmn):\n",
        "    # Format: e = [node1, node2, node3] and coord[e[i]] = [xi, yi]\n",
        "\n",
        "    # Get node coordinates\n",
        "    x0, y0 = coord[e[0]]\n",
        "    x1, y1 = coord[e[1]]\n",
        "    x2, y2 = coord[e[2]]\n",
        "    x = [x0, x1, x2]\n",
        "    linelength=np.max(x)-np.min(x)\n",
        "\n",
        "    # Plot nodes and lines between them\n",
        "    ax.plot( [x0, x1], [y0, y1], color=\"black\", marker='o')\n",
        "    ax.plot( [x0, x2], [y0, y2], color=\"black\", marker='o')\n",
        "    ax.plot( [x1, x2], [y1, y2], color=\"black\", marker='o')\n",
        "\n",
        "    if show_elem_ids:\n",
        "      # Plot element numbers in the middle of element\n",
        "      x_mean = (x0+x1+x2)/3\n",
        "      y_mean = (y0+y1+y2)/3\n",
        "      ax.text(x_mean, y_mean, f\"{i+1}\", color=\"grey\", fontsize=52*linelength)\n",
        "\n",
        "    if show_node_ids:\n",
        "      # Plot nodes numbers\n",
        "      pad = [0.01, -0.04]\n",
        "      ax.text(x0+pad[0], y0+pad[1], f\"{e[0]}\", fontsize=32*linelength)\n",
        "      ax.text(x1+pad[0], y1+pad[1], f\"{e[1]}\", fontsize=32*linelength)\n",
        "      ax.text(x2+pad[0], y2+pad[1], f\"{e[2]}\", fontsize=32*linelength)\n",
        "\n",
        "  plt.show()\n",
        "\n",
        "plot_mesh(show_node_ids=True)"
      ]
    },
    {
      "cell_type": "markdown",
      "metadata": {
        "id": "dttvVIt1zNle"
      },
      "source": [
        "Refine the mesh for `lvl` times"
      ]
    },
    {
      "cell_type": "code",
      "execution_count": null,
      "metadata": {
        "id": "XwatcVdhXwo2"
      },
      "outputs": [],
      "source": [
        "def refine(lvl):\n",
        "  \"\"\"\n",
        "  Refines the mesh lvl times. Every refinement doubles the elements.\n",
        "\n",
        "  Input:\n",
        "    lvl     number of refinements to perform\n",
        "\n",
        "  Output:\n",
        "    coord   extended coordinates array\n",
        "    elem    refined mesh\n",
        "  \"\"\"\n",
        "  global t_refine\n",
        "  t_refine = time.time()\n",
        "\n",
        "  def elemrefine(ie):\n",
        "    ### Create 3 new nodes\n",
        "    # Get node ids\n",
        "    e = elem[ie]\n",
        "\n",
        "    # New nodes in the middle of existing of nodes\n",
        "    n1 = ( 0.5 * ( np.array(coord[e[0]]) + np.array(coord[e[1]]) ) ).tolist()\n",
        "    n2 = ( 0.5 * ( np.array(coord[e[1]]) + np.array(coord[e[2]]) ) ).tolist()\n",
        "    n3 = ( 0.5 * ( np.array(coord[e[0]]) + np.array(coord[e[2]]) ) ).tolist()\n",
        "\n",
        "    # Check if nodes already exist\n",
        "    i1 = -1\n",
        "    nodes_ind = len(coord)-1\n",
        "    for i, node in enumerate(coord):\n",
        "      if node[0] == n1[0] and node[1] == n1[1]:\n",
        "        i1 = i\n",
        "        break\n",
        "    else: # Node does not exist\n",
        "      nodes_ind += 1\n",
        "      i1 = nodes_ind\n",
        "      coord.append(n1)\n",
        "\n",
        "    i2 = -1\n",
        "    for i, node in enumerate(coord):\n",
        "      if node[0] == n2[0] and node[1] == n2[1]:\n",
        "        i2 = i\n",
        "        break\n",
        "    else:\n",
        "      nodes_ind += 1\n",
        "      i2 = nodes_ind\n",
        "      coord.append(n2)\n",
        "\n",
        "    i3 = -1\n",
        "    for i, node in enumerate(coord):\n",
        "      if node[0] == n3[0] and node[1] == n3[1]:\n",
        "        i3 = i\n",
        "        break\n",
        "    else:\n",
        "      nodes_ind += 1\n",
        "      i3 = nodes_ind\n",
        "      coord.append(n3)\n",
        "\n",
        "    # Create 4 new triangles\n",
        "    e1 = [e[0], i1, i3]\n",
        "    e2 = [i1, e[1], i2]\n",
        "    e3 = [i3, i2, e[2]]\n",
        "    e4 = [i2, i3, i1]\n",
        "    elem.extend([e1, e2, e3, e4])\n",
        "\n",
        "  # Current level\n",
        "  lmn = len(emax)\n",
        "\n",
        "  # Desired level\n",
        "  lmx = lmn + lvl\n",
        "\n",
        "  # Loop over new levels\n",
        "  for l in range(lmn, lmx):\n",
        "    # create new level\n",
        "    emax.append([emax[l-1][1]+1, 0])\n",
        "\n",
        "    # Counter for new elements\n",
        "    icnt = 0\n",
        "\n",
        "    # Loop over all elements on last level and create four new elements per old element\n",
        "    for ie in range(emax[l-1][0], emax[l-1][1]+1):\n",
        "      elemrefine(ie)\n",
        "      icnt += 4\n",
        "\n",
        "    # New last element\n",
        "    emax[l][1] = emax[l][0] + icnt-1\n",
        "\n",
        "  t_refine = time.time()-t_refine\n",
        "  print(f'Refined the mesh for {lvl} more level{\"s\" if lvl>1 else \"\"}. The mesh has {emax[-1][1]-emax[-1][0]+1} elements and {len(coord)} nodes now.')\n",
        "\n",
        "\n",
        "refine(2); print(f'This took {t_refine:.5f}s.')"
      ]
    },
    {
      "cell_type": "markdown",
      "metadata": {
        "id": "wlddBbFEcjKE"
      },
      "source": [
        "Create matrix A:"
      ]
    },
    {
      "cell_type": "code",
      "execution_count": null,
      "metadata": {
        "id": "V27KAmbjual8"
      },
      "outputs": [],
      "source": [
        "def area(ie):\n",
        "  \"\"\"\n",
        "  Computes the area of an element based on the formula presented in the lecture.\n",
        "\n",
        "  Input:\n",
        "    ie    element index\n",
        "  \"\"\"\n",
        "  # Compute area of element\n",
        "  e = elem[ie]\n",
        "  a = np.array(coord[e[1]]) - np.array(coord[e[0]])\n",
        "  b = np.array(coord[e[2]]) - np.array(coord[e[0]])\n",
        "  return 0.5 * ( a[0]*b[1] - a[1]*b[0] )\n",
        "\n",
        "def assmblstiff():\n",
        "  \"\"\"\n",
        "  Sets up the stiffness matrix A like presented in the lecture.\n",
        "\n",
        "  Input:\n",
        "    None\n",
        "\n",
        "  Output:\n",
        "    A   stiffness matrix\n",
        "  \"\"\"\n",
        "  global t_assemble\n",
        "  t_assemble = time.time()\n",
        "\n",
        "  def elstiff(ie):\n",
        "    # Nodes of this element\n",
        "    e = elem[ie]\n",
        "\n",
        "    # Coordinates\n",
        "    x1, y1 = coord[e[0]]\n",
        "    x2, y2 = coord[e[1]]\n",
        "    x3, y3 = coord[e[2]]\n",
        "\n",
        "    # Denominators\n",
        "    d1 = (x1-x2)*(y3-y2) - (x3-x2)*(y1-y2)\n",
        "    d2 = (x2-x3)*(y1-y3) - (x1-x3)*(y2-y3)\n",
        "    d3 = (x3-x1)*(y2-y1) - (x2-x1)*(y3-y1)\n",
        "\n",
        "    # Derivatives\n",
        "    dxb1 = (y3-y2)/d1\n",
        "    dyb1 = (x3-x2)/d1\n",
        "    dxb2 = (y1-y3)/d2\n",
        "    dyb2 = (x1-x3)/d2\n",
        "    dxb3 = (y2-y1)/d3\n",
        "    dyb3 = (x2-x1)/d3\n",
        "\n",
        "    # Build submatrix\n",
        "    a = np.zeros((3,3))\n",
        "    ar = area(ie)\n",
        "\n",
        "    a[0,0] = ar * (dxb1*dxb1 + dyb1*dyb1)\n",
        "    a[1,1] = ar * (dxb2*dxb2 + dyb2*dyb2)\n",
        "    a[2,2] = ar * (dxb3*dxb3 + dyb3*dyb3)\n",
        "    a[1,0] = a[0,1] = ar * (dxb2*dxb1 + dyb2*dyb1)\n",
        "    a[2,0] = a[0,2] = ar * (dxb3*dxb1 + dyb3*dyb1)\n",
        "    a[2,1] = a[1,2] = ar * (dxb3*dxb2 + dyb3*dyb2)\n",
        "    return a\n",
        "\n",
        "  # Global (sparse) stiffness matrix\n",
        "  global A\n",
        "  A = sp.lil_matrix((len(coord),)*2)\n",
        "\n",
        "  # Loop over all elements and compute the integrals among each other for its three nodes and sum them up in the large matrix A\n",
        "  l = emax[-1]\n",
        "  for ie, e in enumerate( elem[ l[0]:l[1]+1 ], start=l[0]):\n",
        "\n",
        "    # Get the integrals of the nodes of this element among each other\n",
        "    ae = elstiff(ie)\n",
        "\n",
        "    # Loop over all combinations of nodes in this element\n",
        "    for k in range(3):\n",
        "      i = e[k] # Node index in large matrix\n",
        "\n",
        "      for l in range(3):\n",
        "        j = e[l]\n",
        "\n",
        "        A[i, j] += ae[k, l]\n",
        "\n",
        "  # Correct the boundary nodes. We have homogenoeous Dirichlet bc, hence 0\n",
        "  for ie, node in enumerate(coord):\n",
        "    if (0.0 in node) or (1.0 in node):\n",
        "      A[ie,:] = A[:,ie] = 0\n",
        "      A[ie,ie] = 1\n",
        "\n",
        "  # Change sparse format\n",
        "  A = A.tocsr()\n",
        "\n",
        "  t_assemble = time.time()-t_assemble\n",
        "\n",
        "  print(f\"Sparse stiffness matrix A with shape {A.shape} created.\")\n",
        "\n",
        "\n",
        "assmblstiff(); print(f'This took {t_assemble:.5f} seconds.')"
      ]
    },
    {
      "cell_type": "markdown",
      "metadata": {
        "id": "ALU16Fv8NUIT"
      },
      "source": [
        "Order the matrix with Cuthill-McKee to get a lean structure:"
      ]
    },
    {
      "cell_type": "code",
      "execution_count": null,
      "metadata": {
        "id": "MGZS6Fi_bZxr"
      },
      "outputs": [],
      "source": [
        "def reorder_matrix(plot=False):\n",
        "  \"\"\"\n",
        "  Permutes the nodes with the Cuthill-McKee algorithm to slim the sparse matrix.\n",
        "\n",
        "  Input:\n",
        "    plot      whether visualize the structures before and after reordering\n",
        "\n",
        "  Output:\n",
        "    A         reordered matrix\n",
        "    perm      permutation array (necessary for the right hand side)\n",
        "    inv_perm  inverse permutation array (to reconstruct solution u)\n",
        "  \"\"\"\n",
        "  global A, perm, inv_perm\n",
        "\n",
        "  # Compute ordering\n",
        "  perm0 = sp.csgraph.reverse_cuthill_mckee(A, symmetric_mode=True)\n",
        "\n",
        "  # Check if it is already in this ordering\n",
        "  is_ordered = (np.sum(A!=A[perm0,:][:,perm0])==0)\n",
        "\n",
        "  if is_ordered:\n",
        "    print(\"Matrix already in Cuthill-McKee-ordering.\")\n",
        "  else:\n",
        "    perm=perm0\n",
        "    inv_perm = np.argsort(perm)\n",
        "    Ao = A[perm,:][:,perm]\n",
        "    print(\"Computed Cuthill-McKee-ordering.\")\n",
        "\n",
        "  # Inspect structure\n",
        "  if plot:\n",
        "    markersize=5 if A.shape[0]<100 else 1\n",
        "\n",
        "    fig, axes = plt.subplots(1,2-is_ordered, figsize=(8-4*is_ordered,3))\n",
        "    if is_ordered:\n",
        "      axes.set_title(\"Current ordering\")\n",
        "      axes.spy(A, markersize=markersize)\n",
        "    else:\n",
        "      axes[0].set_title(\"Before ordering\")\n",
        "      axes[0].spy(A, markersize=markersize)\n",
        "\n",
        "      axes[1].set_title(\"After ordering\")\n",
        "      axes[1].spy(Ao, markersize=markersize)\n",
        "\n",
        "    plt.show()\n",
        "\n",
        "  # Adopt ordered matrix\n",
        "  if not is_ordered:\n",
        "    A = Ao\n",
        "\n",
        "\n",
        "reorder_matrix(plot=True)"
      ]
    },
    {
      "cell_type": "markdown",
      "metadata": {
        "id": "IkTnTqxjUML8"
      },
      "source": [
        "Define a right-hand-side:"
      ]
    },
    {
      "cell_type": "code",
      "execution_count": null,
      "metadata": {
        "id": "7SeF8HkvqvMZ"
      },
      "outputs": [],
      "source": [
        "def f():\n",
        "  \"\"\"\n",
        "  Creates simple initial data.\n",
        "  \"\"\"\n",
        "  return -1*np.ones((len(coord), 1))\n",
        "\n",
        "def rhs(f):\n",
        "  \"\"\"\n",
        "  Produces the right hand side by multiplying the initial data with the mass matrix.\n",
        "\n",
        "  Input:\n",
        "    f   initial data\n",
        "\n",
        "  Output:\n",
        "    b   right hand side M*f\n",
        "  \"\"\"\n",
        "  global t_rhs\n",
        "  t_rhs = time.time()\n",
        "\n",
        "  b = np.zeros(len(f))\n",
        "\n",
        "  l = emax[-1]\n",
        "  for ie, e in enumerate( elem[l[0]:l[1]+1], start=l[0] ):\n",
        "    # Surface area times mean f values on the nodes\n",
        "    b[e] += area(ie) * np.sum(f[e]) / 3\n",
        "\n",
        "  # Boundary values\n",
        "  for i, node in enumerate(coord):\n",
        "    if (0.0 in node) or (1.0 in node):\n",
        "      b[i] = 0\n",
        "  t_rhs = time.time()-t_rhs\n",
        "\n",
        "  print(\"Created the right hand side.\")\n",
        "  return b[perm]\n",
        "\n",
        "b = rhs(f()); print(f'Creating the rhs took {t_rhs:0.5f}s')"
      ]
    },
    {
      "cell_type": "markdown",
      "metadata": {
        "id": "0-yNsX-1aYKL"
      },
      "source": [
        "Solve:"
      ]
    },
    {
      "cell_type": "code",
      "execution_count": null,
      "metadata": {
        "id": "E1EU98D3aXZ_"
      },
      "outputs": [],
      "source": [
        "def solve(b):\n",
        "  \"\"\"\n",
        "  Solves the problem for the given rhs.\n",
        "\n",
        "  Input:\n",
        "    b   right-hand side of the problem\n",
        "\n",
        "  Output:\n",
        "    u   solution to the PDE\n",
        "  \"\"\"\n",
        "  global t_solve, A\n",
        "  t_solve = time.time()\n",
        "  u = spsolve(A, b)[inv_perm]\n",
        "  t_solve = time.time()-t_solve\n",
        "\n",
        "  print(\"System solved.\")\n",
        "  return u\n",
        "\n",
        "u = solve(b); print(f'Solving took {t_solve:.5f}s.')"
      ]
    },
    {
      "cell_type": "code",
      "execution_count": null,
      "metadata": {
        "id": "c-zNCNgiZckr"
      },
      "outputs": [],
      "source": [
        "def plot_solution(u):\n",
        "  \"\"\"\n",
        "  Plots the solution.\n",
        "\n",
        "  Input:\n",
        "    u   solution to the FEM\n",
        "  \"\"\"\n",
        "\n",
        "  print(\"=============================================\")\n",
        "  print(\"===========       STATISTICS      ===========\")\n",
        "  print(\"=============================================\")\n",
        "  print(f\"| INFO: time for refine:            {t_refine:.5f}s|\")\n",
        "  print(f\"| INFO: time for assemble:          {t_assemble:.5f}s|\")\n",
        "  print(f\"| INFO: time for right-hand-side:   {t_rhs:.5f}s|\")\n",
        "  print(f\"| INFO: time for solve:             {t_solve:.5f}s|\")\n",
        "  print(f\"| INFO: Number of nodes:            {len(coord):8d}|\")\n",
        "  print(f\"| INFO: Number of elements:         {emax[-1][1]-emax[-1][0]+1:8d}|\")\n",
        "  print(\"=============================================\")\n",
        "  grid = np.array(coord).T\n",
        "  fig = plt.figure()\n",
        "  ax = fig.add_subplot(111, projection='3d')\n",
        "  ax.plot_trisurf(grid[0], grid[1], u)\n",
        "  ax.set_xlabel('X')\n",
        "  ax.set_ylabel('Y')\n",
        "  ax.set_zlabel('Z')\n",
        "  plt.show()\n",
        "\n",
        "plot_solution(u)"
      ]
    },
    {
      "cell_type": "markdown",
      "metadata": {
        "id": "6YLWDzKzaZsE"
      },
      "source": [
        "All in one:"
      ]
    },
    {
      "cell_type": "code",
      "execution_count": null,
      "metadata": {
        "id": "d3sPVHtwU-z3"
      },
      "outputs": [],
      "source": [
        "initial()\n",
        "refine(4)\n",
        "assmblstiff()\n",
        "reorder_matrix(plot=False)\n",
        "u = solve(rhs(f()))\n",
        "plot_solution(u)"
      ]
    }
  ],
  "metadata": {
    "colab": {
      "authorship_tag": "ABX9TyP7iot9Qd/zGnVLEBwjOsn1",
      "provenance": []
    },
    "kernelspec": {
      "display_name": "Python 3",
      "name": "python3"
    },
    "language_info": {
      "name": "python"
    }
  },
  "nbformat": 4,
  "nbformat_minor": 0
}
